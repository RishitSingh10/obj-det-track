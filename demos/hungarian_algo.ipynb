{
 "cells": [
  {
   "cell_type": "markdown",
   "id": "664f048c",
   "metadata": {},
   "source": [
    "# Optimal Assignment Problem"
   ]
  },
  {
   "cell_type": "markdown",
   "id": "0b10f5ed",
   "metadata": {},
   "source": []
  }
 ],
 "metadata": {
  "language_info": {
   "name": "python"
  }
 },
 "nbformat": 4,
 "nbformat_minor": 5
}
